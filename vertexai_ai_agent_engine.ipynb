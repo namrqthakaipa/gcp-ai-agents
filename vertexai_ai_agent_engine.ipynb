{
  "cells": [
    {
      "cell_type": "markdown",
      "metadata": {
        "id": "view-in-github",
        "colab_type": "text"
      },
      "source": [
        "<a href=\"https://colab.research.google.com/github/namrqthakaipa/gcp-ai-agents/blob/main/vertexai_ai_agent_engine.ipynb\" target=\"_parent\"><img src=\"https://colab.research.google.com/assets/colab-badge.svg\" alt=\"Open In Colab\"/></a>"
      ]
    },
    {
      "cell_type": "code",
      "execution_count": null,
      "metadata": {
        "id": "ijGzTHJJUCPY"
      },
      "outputs": [],
      "source": [
        "# Copyright Psitron"
      ]
    },
    {
      "cell_type": "markdown",
      "metadata": {
        "id": "VEqbX8OhE8y9"
      },
      "source": [
        "# Intro to Building and Deploying an Agent with Agent Engine in Vertex AI"
      ]
    },
    {
      "cell_type": "markdown",
      "metadata": {
        "id": "CkHPv2myT2cx"
      },
      "source": [
        "## Overview\n",
        "\n",
        "### Gemini\n",
        "\n",
        "Gemini is a family of generative AI models developed by Google DeepMind that is designed for multimodal use cases.\n",
        "\n",
        "### Function Calling in Gemini\n",
        "\n",
        "[Function calling](https://cloud.google.com/vertex-ai/docs/generative-ai/multimodal/function-calling) lets developers create a description of a function in their code, then pass that description to a language model in a request. The response from the model includes the name of a function that matches the description and the arguments to call it with.\n",
        "\n",
        "### Agent Engine in Vertex AI\n",
        "\n",
        "[Agent Engine](https://cloud.google.com/vertex-ai/generative-ai/docs/agent-engine/overview) is a managed service that helps you to build and deploy an agent framework. It gives you the flexibility to choose how much reasoning you want to delegate to the LLM and how much you want to handle with customized code. You can define Python functions that get used as tools via [Gemini Function Calling](https://cloud.google.com/vertex-ai/generative-ai/docs/multimodal/function-calling). Agent Engine integrates closely with the Python SDK for the Gemini model in Vertex AI, and it can manage prompts, agents, and examples in a modular way. Agent Engine is compatible with LangChain, LlamaIndex, or other Python frameworks.\n",
        "\n",
        "<img width=\"60%\" src=\"https://storage.googleapis.com/github-repo/generative-ai/gemini/agent-engine/images/agent-engine-overview.png\" alt=\"Agent Engine on Vertex AI\" />"
      ]
    },
    {
      "cell_type": "markdown",
      "metadata": {
        "id": "DrkcqHrrwMAo"
      },
      "source": [
        "### Objectives\n",
        "\n",
        "In this tutorial, you will learn how to build and deploy an agent (model, tools, and reasoning) using the Vertex AI SDK for Python.\n",
        "\n",
        "You'll build and deploy an agent that uses the Gemini model, Python functions as tools, and LangChain for orchestration.\n",
        "\n",
        "You will complete the following tasks:\n",
        "\n",
        "- Install the Vertex AI SDK for Python\n",
        "- Use the Vertex AI SDK to build components of a simple agent\n",
        "- Test your agent locally before deploying\n",
        "- Deploy and test your agent on Vertex AI\n",
        "- Customize each layer of your agent (model, tools, orchestration)"
      ]
    },
    {
      "cell_type": "markdown",
      "metadata": {
        "id": "C9nEPojogw-g"
      },
      "source": [
        "### Costs\n",
        "\n",
        "This tutorial uses billable components of Google Cloud:\n",
        "\n",
        "- Vertex AI\n",
        "\n",
        "Learn about [Vertex AI pricing](https://cloud.google.com/vertex-ai/pricing) and use the [Pricing Calculator](https://cloud.google.com/products/calculator/) to generate a cost estimate based on your projected usage.\n"
      ]
    },
    {
      "cell_type": "markdown",
      "metadata": {
        "id": "r11Gu7qNgx1p"
      },
      "source": [
        "## Getting Started\n"
      ]
    },
    {
      "cell_type": "markdown",
      "metadata": {
        "id": "No17Cw5hgx12"
      },
      "source": [
        "### Install Vertex AI SDK for Python\n",
        "\n",
        "Install the latest version of the Vertex AI SDK for Python as well as extra dependencies related to Agent Engine and LangChain:"
      ]
    },
    {
      "cell_type": "code",
      "execution_count": 1,
      "metadata": {
        "id": "tFy3H3aPgx12",
        "outputId": "2916861e-2f80-4d7a-f3fb-1cd319ba3954",
        "colab": {
          "base_uri": "https://localhost:8080/"
        }
      },
      "outputs": [
        {
          "output_type": "stream",
          "name": "stdout",
          "text": [
            "\u001b[2K     \u001b[90m━━━━━━━━━━━━━━━━━━━━━━━━━━━━━━━━━━━━━━━━\u001b[0m \u001b[32m43.7/43.7 kB\u001b[0m \u001b[31m1.2 MB/s\u001b[0m eta \u001b[36m0:00:00\u001b[0m\n",
            "\u001b[2K   \u001b[90m━━━━━━━━━━━━━━━━━━━━━━━━━━━━━━━━━━━━━━━━\u001b[0m \u001b[32m229.5/229.5 kB\u001b[0m \u001b[31m2.2 MB/s\u001b[0m eta \u001b[36m0:00:00\u001b[0m\n",
            "\u001b[2K   \u001b[90m━━━━━━━━━━━━━━━━━━━━━━━━━━━━━━━━━━━━━━━━\u001b[0m \u001b[32m103.3/103.3 kB\u001b[0m \u001b[31m3.9 MB/s\u001b[0m eta \u001b[36m0:00:00\u001b[0m\n",
            "\u001b[2K   \u001b[90m━━━━━━━━━━━━━━━━━━━━━━━━━━━━━━━━━━━━━━━━\u001b[0m \u001b[32m100.2/100.2 kB\u001b[0m \u001b[31m5.9 MB/s\u001b[0m eta \u001b[36m0:00:00\u001b[0m\n",
            "\u001b[2K   \u001b[90m━━━━━━━━━━━━━━━━━━━━━━━━━━━━━━━━━━━━━━━━\u001b[0m \u001b[32m7.7/7.7 MB\u001b[0m \u001b[31m42.1 MB/s\u001b[0m eta \u001b[36m0:00:00\u001b[0m\n",
            "\u001b[2K   \u001b[90m━━━━━━━━━━━━━━━━━━━━━━━━━━━━━━━━━━━━━━━━\u001b[0m \u001b[32m148.2/148.2 kB\u001b[0m \u001b[31m6.2 MB/s\u001b[0m eta \u001b[36m0:00:00\u001b[0m\n",
            "\u001b[2K   \u001b[90m━━━━━━━━━━━━━━━━━━━━━━━━━━━━━━━━━━━━━━━━\u001b[0m \u001b[32m118.4/118.4 kB\u001b[0m \u001b[31m8.7 MB/s\u001b[0m eta \u001b[36m0:00:00\u001b[0m\n",
            "\u001b[2K   \u001b[90m━━━━━━━━━━━━━━━━━━━━━━━━━━━━━━━━━━━━━━━━\u001b[0m \u001b[32m65.8/65.8 kB\u001b[0m \u001b[31m4.1 MB/s\u001b[0m eta \u001b[36m0:00:00\u001b[0m\n",
            "\u001b[2K   \u001b[90m━━━━━━━━━━━━━━━━━━━━━━━━━━━━━━━━━━━━━━━━\u001b[0m \u001b[32m196.2/196.2 kB\u001b[0m \u001b[31m8.4 MB/s\u001b[0m eta \u001b[36m0:00:00\u001b[0m\n",
            "\u001b[2K   \u001b[90m━━━━━━━━━━━━━━━━━━━━━━━━━━━━━━━━━━━━━━━━\u001b[0m \u001b[32m44.2/44.2 kB\u001b[0m \u001b[31m1.4 MB/s\u001b[0m eta \u001b[36m0:00:00\u001b[0m\n",
            "\u001b[2K   \u001b[90m━━━━━━━━━━━━━━━━━━━━━━━━━━━━━━━━━━━━━━━━\u001b[0m \u001b[32m50.0/50.0 kB\u001b[0m \u001b[31m3.3 MB/s\u001b[0m eta \u001b[36m0:00:00\u001b[0m\n",
            "\u001b[2K   \u001b[90m━━━━━━━━━━━━━━━━━━━━━━━━━━━━━━━━━━━━━━━━\u001b[0m \u001b[32m42.1/42.1 MB\u001b[0m \u001b[31m23.5 MB/s\u001b[0m eta \u001b[36m0:00:00\u001b[0m\n",
            "\u001b[2K   \u001b[90m━━━━━━━━━━━━━━━━━━━━━━━━━━━━━━━━━━━━━━━━\u001b[0m \u001b[32m44.7/44.7 kB\u001b[0m \u001b[31m4.4 MB/s\u001b[0m eta \u001b[36m0:00:00\u001b[0m\n",
            "\u001b[2K   \u001b[90m━━━━━━━━━━━━━━━━━━━━━━━━━━━━━━━━━━━━━━━━\u001b[0m \u001b[32m216.5/216.5 kB\u001b[0m \u001b[31m22.1 MB/s\u001b[0m eta \u001b[36m0:00:00\u001b[0m\n",
            "\u001b[?25h"
          ]
        }
      ],
      "source": [
        "%pip install --upgrade --quiet \\\n",
        "    \"google-cloud-aiplatform[agent_engines,langchain]\" \\\n",
        "    cloudpickle==3.0.0 \\\n",
        "    \"pydantic>=2.10\" \\\n",
        "    requests"
      ]
    },
    {
      "cell_type": "markdown",
      "metadata": {
        "id": "R5Xep4W9lq-Z"
      },
      "source": [
        "### Restart current runtime\n",
        "\n",
        "To use the newly installed packages in this Jupyter runtime, you must restart the runtime. You can do this by running the cell below, which will restart the current kernel."
      ]
    },
    {
      "cell_type": "code",
      "execution_count": 2,
      "metadata": {
        "id": "XRvKdaPDTznN",
        "outputId": "53643f7c-2050-4699-f815-ff3540264a4b",
        "colab": {
          "base_uri": "https://localhost:8080/"
        }
      },
      "outputs": [
        {
          "output_type": "execute_result",
          "data": {
            "text/plain": [
              "{'status': 'ok', 'restart': True}"
            ]
          },
          "metadata": {},
          "execution_count": 2
        }
      ],
      "source": [
        "# Restart kernel after installs so that your environment can access the new packages\n",
        "import IPython\n",
        "\n",
        "app = IPython.Application.instance()\n",
        "app.kernel.do_shutdown(True)"
      ]
    },
    {
      "cell_type": "markdown",
      "metadata": {
        "id": "SbmM4z7FOBpM"
      },
      "source": [
        "<div class=\"alert alert-block alert-warning\">\n",
        "<b>⚠️ The kernel is going to restart. Please wait until it is finished before continuing to the next step. ⚠️</b>\n",
        "</div>\n"
      ]
    },
    {
      "cell_type": "markdown",
      "metadata": {
        "id": "dmWOrTJ3gx13"
      },
      "source": [
        "### Authenticate your notebook environment (Colab only)\n",
        "\n",
        "If you are running this notebook on Google Colab, run the following cell to authenticate your environment. This step is not required if you are using [Vertex AI Workbench](https://cloud.google.com/vertex-ai-workbench)."
      ]
    },
    {
      "cell_type": "code",
      "execution_count": 1,
      "metadata": {
        "id": "NyKGtVQjgx13"
      },
      "outputs": [],
      "source": [
        "import sys\n",
        "\n",
        "if \"google.colab\" in sys.modules:\n",
        "    from google.colab import auth\n",
        "\n",
        "    auth.authenticate_user()"
      ]
    },
    {
      "cell_type": "markdown",
      "metadata": {
        "id": "DF4l8DTdWgPY"
      },
      "source": [
        "### Set Google Cloud project information and initialize Vertex AI SDK\n",
        "\n",
        "To get started using Vertex AI, you must have an existing Google Cloud project and [enable the Vertex AI API](https://console.cloud.google.com/flows/enableapi?apiid=aiplatform.googleapis.com).\n",
        "\n",
        "Learn more about [setting up a project and a development environment](https://cloud.google.com/vertex-ai/docs/start/cloud-environment)."
      ]
    },
    {
      "cell_type": "code",
      "execution_count": 2,
      "metadata": {
        "id": "Nqwi-5ufWp_B"
      },
      "outputs": [],
      "source": [
        "PROJECT_ID = \"ai-agent-vertex-461013\"  # @param {type:\"string\"}\n",
        "LOCATION = \"us-central1\"  # @param {type:\"string\"}\n",
        "STAGING_BUCKET = \"gs://aiagentvertexai\"  # @param {type:\"string\"}\n",
        "\n",
        "import vertexai\n",
        "\n",
        "vertexai.init(project=PROJECT_ID, location=LOCATION, staging_bucket=STAGING_BUCKET)"
      ]
    },
    {
      "cell_type": "markdown",
      "metadata": {
        "id": "1e5c96372296"
      },
      "source": [
        "## Example: Build and deploy an agent"
      ]
    },
    {
      "cell_type": "markdown",
      "metadata": {
        "id": "jXHfaVS66_01"
      },
      "source": [
        "### Import libraries"
      ]
    },
    {
      "cell_type": "code",
      "execution_count": 3,
      "metadata": {
        "id": "lslYAvw37JGQ"
      },
      "outputs": [],
      "source": [
        "from vertexai import agent_engines\n",
        "from vertexai.preview.reasoning_engines import LangchainAgent"
      ]
    },
    {
      "cell_type": "markdown",
      "metadata": {
        "id": "43c61bf4c3f5"
      },
      "source": [
        "### Define model"
      ]
    },
    {
      "cell_type": "markdown",
      "metadata": {
        "id": "f685ca44c1e9"
      },
      "source": [
        "As you construct your agent from the bottom up, the first component deals with which generative model you want to use in your agent.\n",
        "\n",
        "<img width=\"40%\" src=\"https://storage.googleapis.com/github-repo/generative-ai/gemini/agent-engine/images/agent-stack-1.png\" alt=\"Components of an agent in Agent Engine on Vertex AI\" />\n",
        "\n",
        "Here you'll use the Gemini 2.0 model:"
      ]
    },
    {
      "cell_type": "code",
      "execution_count": 4,
      "metadata": {
        "id": "921890fcb875"
      },
      "outputs": [],
      "source": [
        "model = \"gemini-2.0-flash\""
      ]
    },
    {
      "cell_type": "markdown",
      "metadata": {
        "id": "60eba5468448"
      },
      "source": [
        "### Define Python functions (tools)\n",
        "\n",
        "The second component of your agent includes tools and functions, which enable the generative model to interact with external systems, databases, document stores, and other APIs so that the model can get the most up-to-date information or take action with those systems.\n",
        "\n",
        "<img width=\"40%\" src=\"https://storage.googleapis.com/github-repo/generative-ai/gemini/agent-engine/images/agent-stack-2.png\" alt=\"Components of an agent in Agent Engine on Vertex AI\" />\n",
        "\n",
        "In this example, you'll define a function called `get_exchange_rate` that uses the `requests` library to retrieve real-time currency exchange information from an API:"
      ]
    },
    {
      "cell_type": "code",
      "execution_count": 5,
      "metadata": {
        "id": "ff7991bf37bf"
      },
      "outputs": [],
      "source": [
        "def get_exchange_rate(\n",
        "    currency_from: str = \"USD\",\n",
        "    currency_to: str = \"INR\",\n",
        "    currency_date: str = \"latest\",\n",
        "):\n",
        "    \"\"\"Retrieves the exchange rate between two currencies on a specified date.\"\"\"\n",
        "    import requests\n",
        "\n",
        "    response = requests.get(\n",
        "        f\"https://api.frankfurter.app/{currency_date}\",\n",
        "        params={\"from\": currency_from, \"to\": currency_to},\n",
        "    )\n",
        "    return response.json()"
      ]
    },
    {
      "cell_type": "markdown",
      "metadata": {
        "id": "971f56c167e7"
      },
      "source": [
        "Test the function with sample inputs to ensure that it's working as expected:"
      ]
    },
    {
      "cell_type": "code",
      "execution_count": 6,
      "metadata": {
        "id": "4ae49a2ccd2e",
        "outputId": "43aa1206-aa05-4f02-c8a7-4fee8e28b729",
        "colab": {
          "base_uri": "https://localhost:8080/"
        }
      },
      "outputs": [
        {
          "output_type": "execute_result",
          "data": {
            "text/plain": [
              "{'amount': 1.0, 'base': 'USD', 'date': '2025-06-05', 'rates': {'INR': 85.83}}"
            ]
          },
          "metadata": {},
          "execution_count": 6
        }
      ],
      "source": [
        "get_exchange_rate(currency_from=\"USD\", currency_to=\"INR\")"
      ]
    },
    {
      "cell_type": "markdown",
      "metadata": {
        "id": "35ca52a9021c"
      },
      "source": [
        "### Define agent\n",
        "\n",
        "The third component of your agent involves adding a reasoning layer, which helps your agent use the tools that you provided to help the end user achieve a higher-level goal.\n",
        "\n",
        "<img width=\"40%\" src=\"https://storage.googleapis.com/github-repo/generative-ai/gemini/agent-engine/images/agent-stack-3.png\" alt=\"Components of an agent in Agent Engine on Vertex AI\" />\n",
        "\n",
        "If you were to use Gemini and Function Calling on their own without a reasoning layer, you would need to handle the process of calling functions and APIs in your application code, and you would need to implement retries and additional logic to ensure that your function calling code is resilient to failures and malformed requests.\n",
        "\n",
        "Here, you'll use the LangChain agent template provided in the Vertex AI SDK for Agent Engine, which brings together the model, tools, and reasoning that you've built up so far:"
      ]
    },
    {
      "cell_type": "code",
      "execution_count": 7,
      "metadata": {
        "id": "68bc1b395f9d"
      },
      "outputs": [],
      "source": [
        "agent = LangchainAgent(\n",
        "    model=model,\n",
        "    tools=[get_exchange_rate],\n",
        "    agent_executor_kwargs={\"return_intermediate_steps\": True},\n",
        ")"
      ]
    },
    {
      "cell_type": "markdown",
      "metadata": {
        "id": "fa3c33f6ec72"
      },
      "source": [
        "Now we can test the model and agent behavior to ensure that it's working as expected before we deploy it:"
      ]
    },
    {
      "cell_type": "markdown",
      "metadata": {
        "id": "68a527f87e42"
      },
      "source": [
        "### Test your agent locally\n",
        "\n",
        "With all of the core components of your agent in place, you can send a prompt to your agent using `.query` to test that it's working as expected, including the intermediate steps that the agent performed between the input prompt and the generated summary output. In the default mode, the agent processes your input and returns the **entire agent output in a single response when complete**:"
      ]
    },
    {
      "cell_type": "code",
      "execution_count": 8,
      "metadata": {
        "id": "e0c5c699de12",
        "outputId": "c4b0bdf3-31a1-4270-d2b5-a5dc2dc8380b",
        "colab": {
          "base_uri": "https://localhost:8080/"
        }
      },
      "outputs": [
        {
          "output_type": "execute_result",
          "data": {
            "text/plain": [
              "{'input': \"What's the exchange rate from US dollars to INR currency today?\",\n",
              " 'output': 'The exchange rate from USD to INR is 85.83 as of today.',\n",
              " 'intermediate_steps': [[{'lc': 1,\n",
              "    'type': 'constructor',\n",
              "    'id': ['langchain', 'schema', 'agent', 'ToolAgentAction'],\n",
              "    'kwargs': {'tool': 'get_exchange_rate',\n",
              "     'tool_input': {},\n",
              "     'log': '\\nInvoking: `get_exchange_rate` with `{}`\\n\\n\\n',\n",
              "     'type': 'AgentActionMessageLog',\n",
              "     'message_log': [{'lc': 1,\n",
              "       'type': 'constructor',\n",
              "       'id': ['langchain', 'schema', 'messages', 'AIMessageChunk'],\n",
              "       'kwargs': {'content': '',\n",
              "        'additional_kwargs': {'function_call': {'name': 'get_exchange_rate',\n",
              "          'arguments': '{}'}},\n",
              "        'response_metadata': {'safety_ratings': [],\n",
              "         'usage_metadata': {},\n",
              "         'finish_reason': 'STOP',\n",
              "         'model_name': 'gemini-2.0-flash'},\n",
              "        'type': 'AIMessageChunk',\n",
              "        'id': 'run--fa652b35-bb65-49ef-bef1-4d8fa41fcab5',\n",
              "        'tool_calls': [{'name': 'get_exchange_rate',\n",
              "          'args': {},\n",
              "          'id': '459887cd-1c96-46ce-9520-9c4d1cf94f42',\n",
              "          'type': 'tool_call'}],\n",
              "        'usage_metadata': {'input_tokens': 48,\n",
              "         'output_tokens': 5,\n",
              "         'total_tokens': 53},\n",
              "        'tool_call_chunks': [{'name': 'get_exchange_rate',\n",
              "          'args': '{}',\n",
              "          'id': '459887cd-1c96-46ce-9520-9c4d1cf94f42',\n",
              "          'index': None,\n",
              "          'type': 'tool_call_chunk'}],\n",
              "        'invalid_tool_calls': []}}],\n",
              "     'tool_call_id': '459887cd-1c96-46ce-9520-9c4d1cf94f42'}},\n",
              "   {'amount': 1.0,\n",
              "    'base': 'USD',\n",
              "    'date': '2025-06-05',\n",
              "    'rates': {'INR': 85.83}}]]}"
            ]
          },
          "metadata": {},
          "execution_count": 8
        }
      ],
      "source": [
        "agent.query(input=\"What's the exchange rate from US dollars to INR currency today?\")"
      ]
    },
    {
      "cell_type": "markdown",
      "metadata": {
        "id": "b1cf06f5fa46"
      },
      "source": [
        "In addition to the default query mode, the `.stream_query` method allows you to **see the agent's intermediate steps and final output from the chain**.\n",
        "\n",
        "Instead of waiting for the agent to complete all sub-tasks, the agent sends back the response in **chunks as it's being generated**:"
      ]
    },
    {
      "cell_type": "code",
      "execution_count": 9,
      "metadata": {
        "id": "7a931f086fc9",
        "outputId": "9f596b84-7ca0-4d1e-fa95-9c27d54c1316",
        "colab": {
          "base_uri": "https://localhost:8080/"
        }
      },
      "outputs": [
        {
          "output_type": "stream",
          "name": "stdout",
          "text": [
            "\n",
            "------\n",
            "\n",
            "Action:\n",
            "\n",
            "[{'lc': 1, 'type': 'constructor', 'id': ['langchain', 'schema', 'agent', 'ToolAgentAction'], 'kwargs': {'tool': 'get_exchange_rate', 'tool_input': {'currency_from': 'USD', 'currency_to': 'INR'}, 'log': \"\\nInvoking: `get_exchange_rate` with `{'currency_from': 'USD', 'currency_to': 'INR'}`\\n\\n\\n\", 'type': 'AgentActionMessageLog', 'message_log': [{'lc': 1, 'type': 'constructor', 'id': ['langchain', 'schema', 'messages', 'AIMessageChunk'], 'kwargs': {'content': '', 'additional_kwargs': {'function_call': {'name': 'get_exchange_rate', 'arguments': '{\"currency_from\": \"USD\", \"currency_to\": \"INR\"}'}}, 'response_metadata': {'safety_ratings': [], 'usage_metadata': {}, 'finish_reason': 'STOP', 'model_name': 'gemini-2.0-flash'}, 'type': 'AIMessageChunk', 'id': 'run--6af6b032-3882-4fa2-836f-404d9a21acbf', 'tool_calls': [{'name': 'get_exchange_rate', 'args': {'currency_from': 'USD', 'currency_to': 'INR'}, 'id': 'a88c99d3-3241-498b-b103-eaa4ea61462b', 'type': 'tool_call'}], 'usage_metadata': {'input_tokens': 48, 'output_tokens': 13, 'total_tokens': 61}, 'tool_call_chunks': [{'name': 'get_exchange_rate', 'args': '{\"currency_from\": \"USD\", \"currency_to\": \"INR\"}', 'id': 'a88c99d3-3241-498b-b103-eaa4ea61462b', 'index': None, 'type': 'tool_call_chunk'}], 'invalid_tool_calls': []}}], 'tool_call_id': 'a88c99d3-3241-498b-b103-eaa4ea61462b'}}]\n",
            "\n",
            "------\n",
            "\n",
            "Message:\n",
            "\n",
            "[{'lc': 1, 'type': 'constructor', 'id': ['langchain', 'schema', 'messages', 'AIMessageChunk'], 'kwargs': {'content': '', 'additional_kwargs': {'function_call': {'name': 'get_exchange_rate', 'arguments': '{\"currency_from\": \"USD\", \"currency_to\": \"INR\"}'}}, 'response_metadata': {'safety_ratings': [], 'usage_metadata': {}, 'finish_reason': 'STOP', 'model_name': 'gemini-2.0-flash'}, 'type': 'AIMessageChunk', 'id': 'run--6af6b032-3882-4fa2-836f-404d9a21acbf', 'tool_calls': [{'name': 'get_exchange_rate', 'args': {'currency_from': 'USD', 'currency_to': 'INR'}, 'id': 'a88c99d3-3241-498b-b103-eaa4ea61462b', 'type': 'tool_call'}], 'usage_metadata': {'input_tokens': 48, 'output_tokens': 13, 'total_tokens': 61}, 'tool_call_chunks': [{'name': 'get_exchange_rate', 'args': '{\"currency_from\": \"USD\", \"currency_to\": \"INR\"}', 'id': 'a88c99d3-3241-498b-b103-eaa4ea61462b', 'index': None, 'type': 'tool_call_chunk'}], 'invalid_tool_calls': []}}]\n",
            "\n",
            "------\n",
            "\n",
            "Message:\n",
            "\n",
            "[{'lc': 1, 'type': 'constructor', 'id': ['langchain', 'schema', 'messages', 'FunctionMessage'], 'kwargs': {'content': '{\"amount\": 1.0, \"base\": \"USD\", \"date\": \"2025-06-05\", \"rates\": {\"INR\": 85.83}}', 'type': 'function', 'name': 'get_exchange_rate'}}]\n",
            "\n",
            "------\n",
            "\n",
            "Message:\n",
            "\n",
            "[{'lc': 1, 'type': 'constructor', 'id': ['langchain', 'schema', 'messages', 'AIMessage'], 'kwargs': {'content': 'Right now, the exchange rate from USD to INR is 85.83.', 'type': 'ai', 'tool_calls': [], 'invalid_tool_calls': []}}]\n",
            "\n",
            "------\n",
            "\n",
            "Output:\n",
            "\n",
            "Right now, the exchange rate from USD to INR is 85.83.\n"
          ]
        }
      ],
      "source": [
        "message_types = {\"actions\": \"Action\", \"messages\": \"Message\", \"output\": \"Output\"}\n",
        "for chunk in agent.stream_query(\n",
        "    input=\"What's the exchange rate from US dollars to INR currency today?\"\n",
        "):\n",
        "    for key, label in message_types.items():\n",
        "        if key in chunk:\n",
        "            print(\"\\n------\\n\")\n",
        "            print(f\"{label}:\")\n",
        "            print()\n",
        "            print(chunk[key])"
      ]
    },
    {
      "cell_type": "markdown",
      "metadata": {
        "id": "bbe3d34ec106"
      },
      "source": [
        "This allows you to observe the agent's actions in real-time (such as function calls, and intermediate steps), which is helpful for debugging purposes or for providing real-time updates to the end user."
      ]
    },
    {
      "cell_type": "markdown",
      "metadata": {
        "id": "77b0a9f0d75b"
      },
      "source": [
        "### Deploy your agent on Vertex AI\n",
        "\n",
        "Now that you've specified a model, tools, and reasoning for your agent and tested it out, you're ready to deploy your agent as a remote service in Vertex AI!\n",
        "\n",
        "<img width=\"40%\" src=\"https://storage.googleapis.com/github-repo/generative-ai/gemini/agent-engine/images/agent-stack-4.png\" alt=\"Components of an agent in Agent Engine on Vertex AI\" />\n",
        "\n",
        "You can re-define the agent to avoid any stateful information in the agent due to our testing in the previous cell:"
      ]
    },
    {
      "cell_type": "code",
      "execution_count": 10,
      "metadata": {
        "id": "b2f8365735d2"
      },
      "outputs": [],
      "source": [
        "agent = LangchainAgent(\n",
        "    model=model,\n",
        "    tools=[get_exchange_rate],\n",
        ")"
      ]
    },
    {
      "cell_type": "markdown",
      "metadata": {
        "id": "ebe2c3be1ca6"
      },
      "source": [
        "Now you're ready to deploy your agent to Agent Engine in Vertex AI by calling `agent_engines.create()` along with:\n",
        "\n",
        "1. The instance of your agent class\n",
        "2. The Python packages and versions that your agent requires at runtime, similar to how you would define packages and versions in a `requirements.txt` file."
      ]
    },
    {
      "cell_type": "code",
      "execution_count": 11,
      "metadata": {
        "id": "fd3b88c73411",
        "outputId": "eb01f2a4-fe56-4d62-ef6b-14a2ffdcc3e4",
        "colab": {
          "base_uri": "https://localhost:8080/"
        }
      },
      "outputs": [
        {
          "output_type": "stream",
          "name": "stderr",
          "text": [
            "INFO:vertexai.agent_engines:Identified the following requirements: {'pydantic': '2.11.5', 'google-cloud-aiplatform': '1.96.0', 'cloudpickle': '3.0.0'}\n",
            "INFO:vertexai.agent_engines:The final list of requirements: ['google-cloud-aiplatform[agent_engines,langchain]', 'cloudpickle==3.0.0', 'pydantic>=2.10', 'requests']\n",
            "INFO:vertexai.agent_engines:Creating bucket aiagentvertexai in location='us-central1'\n",
            "INFO:vertexai.agent_engines:Wrote to gs://aiagentvertexai/agent_engine/agent_engine.pkl\n",
            "INFO:vertexai.agent_engines:Writing to gs://aiagentvertexai/agent_engine/requirements.txt\n",
            "INFO:vertexai.agent_engines:Creating in-memory tarfile of extra_packages\n",
            "INFO:vertexai.agent_engines:Writing to gs://aiagentvertexai/agent_engine/dependencies.tar.gz\n",
            "INFO:vertexai.agent_engines:Creating AgentEngine\n",
            "INFO:vertexai.agent_engines:Create AgentEngine backing LRO: projects/409401031034/locations/us-central1/reasoningEngines/5316965553041047552/operations/5896675740161671168\n",
            "INFO:vertexai.agent_engines:View progress and logs at https://console.cloud.google.com/logs/query?project=ai-agent-vertex-461013\n",
            "INFO:vertexai.agent_engines:AgentEngine created. Resource name: projects/409401031034/locations/us-central1/reasoningEngines/5316965553041047552\n",
            "INFO:vertexai.agent_engines:To use this AgentEngine in another session:\n",
            "INFO:vertexai.agent_engines:agent_engine = vertexai.agent_engines.get('projects/409401031034/locations/us-central1/reasoningEngines/5316965553041047552')\n"
          ]
        }
      ],
      "source": [
        "remote_agent = agent_engines.create(\n",
        "    agent,\n",
        "    requirements=[\n",
        "        \"google-cloud-aiplatform[agent_engines,langchain]\",\n",
        "        \"cloudpickle==3.0.0\",\n",
        "        \"pydantic>=2.10\",\n",
        "        \"requests\",\n",
        "    ],\n",
        ")"
      ]
    },
    {
      "cell_type": "markdown",
      "metadata": {
        "id": "e698a4c3d786"
      },
      "source": [
        "Now you can send a prompt to your remote agent using `.query` to test that it's working as expected:"
      ]
    },
    {
      "cell_type": "code",
      "execution_count": 12,
      "metadata": {
        "id": "d01b37cb77dc",
        "outputId": "63ffad91-283e-4be2-a1ca-ffc72c854e7b",
        "colab": {
          "base_uri": "https://localhost:8080/"
        }
      },
      "outputs": [
        {
          "output_type": "execute_result",
          "data": {
            "text/plain": [
              "{'input': \"What's the exchange rate from US dollars to Yen currency today?\",\n",
              " 'output': \"Today's exchange rate is 1 US dollar equals 143.27 Japanese Yen.\\n\"}"
            ]
          },
          "metadata": {},
          "execution_count": 12
        }
      ],
      "source": [
        "remote_agent.query(\n",
        "    input=\"What's the exchange rate from US dollars to Yen currency today?\"\n",
        ")"
      ]
    },
    {
      "cell_type": "markdown",
      "metadata": {
        "id": "ff3620f5fa01"
      },
      "source": [
        "Or you can stream the results back from the remote agent interactively using `.stream_query`:"
      ]
    },
    {
      "cell_type": "code",
      "execution_count": 13,
      "metadata": {
        "id": "a4250671731e",
        "outputId": "e0a62429-36f6-4095-fef2-fee24b38bab4",
        "colab": {
          "base_uri": "https://localhost:8080/"
        }
      },
      "outputs": [
        {
          "output_type": "stream",
          "name": "stdout",
          "text": [
            "\n",
            "------\n",
            "\n",
            "Action:\n",
            "\n",
            "[{'lc': 1, 'type': 'constructor', 'id': ['langchain', 'schema', 'agent', 'ToolAgentAction'], 'kwargs': {'tool': 'get_exchange_rate', 'tool_input': {'currency_to': 'SEK'}, 'log': \"\\nInvoking: `get_exchange_rate` with `{'currency_to': 'SEK'}`\\n\\n\\n\", 'type': 'AgentActionMessageLog', 'message_log': [{'lc': 1, 'type': 'constructor', 'id': ['langchain', 'schema', 'messages', 'AIMessageChunk'], 'kwargs': {'content': '', 'additional_kwargs': {'function_call': {'name': 'get_exchange_rate', 'arguments': '{\"currency_to\": \"SEK\"}'}}, 'response_metadata': {'safety_ratings': [], 'usage_metadata': {}, 'finish_reason': 'STOP', 'model_name': 'gemini-2.0-flash'}, 'type': 'AIMessageChunk', 'id': 'run--1b088f80-f081-4f87-8928-53c0c3aefeef', 'tool_calls': [{'name': 'get_exchange_rate', 'args': {'currency_to': 'SEK'}, 'id': '8cf93190-bcc6-48d4-a0ac-1965b07e4260', 'type': 'tool_call'}], 'usage_metadata': {'input_tokens': 48, 'output_tokens': 9, 'total_tokens': 57}, 'tool_call_chunks': [{'name': 'get_exchange_rate', 'args': '{\"currency_to\": \"SEK\"}', 'id': '8cf93190-bcc6-48d4-a0ac-1965b07e4260', 'index': None, 'type': 'tool_call_chunk'}], 'invalid_tool_calls': []}}], 'tool_call_id': '8cf93190-bcc6-48d4-a0ac-1965b07e4260'}}]\n",
            "\n",
            "------\n",
            "\n",
            "Message:\n",
            "\n",
            "[{'lc': 1, 'type': 'constructor', 'id': ['langchain', 'schema', 'messages', 'AIMessageChunk'], 'kwargs': {'content': '', 'additional_kwargs': {'function_call': {'name': 'get_exchange_rate', 'arguments': '{\"currency_to\": \"SEK\"}'}}, 'response_metadata': {'safety_ratings': [], 'usage_metadata': {}, 'finish_reason': 'STOP', 'model_name': 'gemini-2.0-flash'}, 'type': 'AIMessageChunk', 'id': 'run--1b088f80-f081-4f87-8928-53c0c3aefeef', 'tool_calls': [{'name': 'get_exchange_rate', 'args': {'currency_to': 'SEK'}, 'id': '8cf93190-bcc6-48d4-a0ac-1965b07e4260', 'type': 'tool_call'}], 'usage_metadata': {'input_tokens': 48, 'output_tokens': 9, 'total_tokens': 57}, 'tool_call_chunks': [{'name': 'get_exchange_rate', 'args': '{\"currency_to\": \"SEK\"}', 'id': '8cf93190-bcc6-48d4-a0ac-1965b07e4260', 'index': None, 'type': 'tool_call_chunk'}], 'invalid_tool_calls': []}}]\n",
            "\n",
            "------\n",
            "\n",
            "Message:\n",
            "\n",
            "[{'lc': 1, 'type': 'constructor', 'id': ['langchain', 'schema', 'messages', 'FunctionMessage'], 'kwargs': {'content': '{\"amount\": 1.0, \"base\": \"USD\", \"date\": \"2025-06-05\", \"rates\": {\"SEK\": 9.5798}}', 'type': 'function', 'name': 'get_exchange_rate'}}]\n",
            "\n",
            "------\n",
            "\n",
            "Message:\n",
            "\n",
            "[{'lc': 1, 'type': 'constructor', 'id': ['langchain', 'schema', 'messages', 'AIMessage'], 'kwargs': {'content': \"Today's exchange rate from USD to SEK is 9.5798.\", 'type': 'ai', 'tool_calls': [], 'invalid_tool_calls': []}}]\n",
            "\n",
            "------\n",
            "\n",
            "Output:\n",
            "\n",
            "Today's exchange rate from USD to SEK is 9.5798.\n"
          ]
        }
      ],
      "source": [
        "message_types = {\"actions\": \"Action\", \"messages\": \"Message\", \"output\": \"Output\"}\n",
        "for chunk in remote_agent.stream_query(\n",
        "    input=\"What's the exchange rate from US dollars to SEK currency today?\"\n",
        "):\n",
        "    for key, label in message_types.items():\n",
        "        if key in chunk:\n",
        "            print(\"\\n------\\n\")\n",
        "            print(f\"{label}:\")\n",
        "            print()\n",
        "            print(chunk[key])"
      ]
    },
    {
      "cell_type": "markdown",
      "metadata": {
        "id": "9f2f7d3ed7bd"
      },
      "source": [
        "### Querying your deployed agent\n",
        "\n",
        "You've now deployed your agent and can [interact with it in multiple ways](https://cloud.google.com/vertex-ai/generative-ai/docs/agent-engine/use/overview), both within this notebook and from other applications or environments. The primary methods for accessing your deployed agent are via the Python client library or through REST API calls. Here's an overview of both methods:\n",
        "\n",
        "**Method 1: Reusing within this notebook or another Python environment**\n",
        "\n",
        "You can directly reuse and query the `remote_agent` instance you created in this notebook.\n",
        "\n",
        "Or, you can instantiate a new instance in another notebook or Python script. To do this, you'll need to retrieve your deployed agent's resource name that uniquely identifies your agent, which is a string that includes the project, location, and Agent Engine ID. You can retrieve it by running the following code in the notebook or environment where you created your agent:"
      ]
    },
    {
      "cell_type": "code",
      "execution_count": 14,
      "metadata": {
        "id": "fdaf8b91413f",
        "outputId": "695736c2-039d-4bd6-c72c-1ffd46225926",
        "colab": {
          "base_uri": "https://localhost:8080/",
          "height": 35
        }
      },
      "outputs": [
        {
          "output_type": "execute_result",
          "data": {
            "text/plain": [
              "'projects/409401031034/locations/us-central1/reasoningEngines/5316965553041047552'"
            ],
            "application/vnd.google.colaboratory.intrinsic+json": {
              "type": "string"
            }
          },
          "metadata": {},
          "execution_count": 14
        }
      ],
      "source": [
        "remote_agent.resource_name"
      ]
    },
    {
      "cell_type": "markdown",
      "metadata": {
        "id": "060f8369d113"
      },
      "source": [
        "Use the resource name to load the agent in your other notebook or Python script, then query the remote agent as usual:"
      ]
    },
    {
      "cell_type": "code",
      "execution_count": 15,
      "metadata": {
        "id": "78af4442827e",
        "outputId": "16574bbe-a539-4e1e-b2a0-05bf262871c7",
        "colab": {
          "base_uri": "https://localhost:8080/"
        }
      },
      "outputs": [
        {
          "output_type": "stream",
          "name": "stdout",
          "text": [
            "{'input': \"What's the exchange rate from US dollars to SEK currency today?\", 'output': 'The current exchange rate is 1 USD to 9.5798 SEK.'}\n"
          ]
        }
      ],
      "source": [
        "from vertexai import agent_engines\n",
        "\n",
        "AGENT_ENGINE_RESOURCE_NAME = \"projects/409401031034/locations/us-central1/reasoningEngines/5316965553041047552\"  # Replace with the resource name of your deployed Agent Engine\n",
        "\n",
        "remote_agent = agent_engines.get(AGENT_ENGINE_RESOURCE_NAME)\n",
        "response = remote_agent.query(input=\"What's the exchange rate from US dollars to SEK currency today?\")\n",
        "print(response)"
      ]
    },
    {
      "cell_type": "markdown",
      "metadata": {
        "id": "63ab06554fc0"
      },
      "source": [
        "**Method 2: Accessing from other environments via REST API**\n",
        "\n",
        "Beyond the Python client library, your deployed Vertex AI agent can be [queried using REST API calls](https://cloud.google.com/vertex-ai/generative-ai/docs/agent-engine/use/overview), including:\n",
        "\n",
        "- Python: You can use Python's `requests` library or similar tools to make HTTP calls to the Vertex AI REST API.\n",
        "- cURL: A command-line tool, cURL allows you to send HTTP requests directly. This is useful for testing and debugging.\n",
        "- Other Programming Languages: If you prefer a different language for your application, you can use its native HTTP client library to make REST API calls.\n",
        "\n",
        "In summary, you have access to your deployed agent through the Python client library within Python environments, and more universally through its REST API via tools and programming languages of your choosing.\n",
        "\n",
        "```\n",
        "curl \\\n",
        "-H \"Authorization: Bearer $(gcloud auth print-access-token)\" \\\n",
        "-H \"Content-Type: application/json\" \\\n",
        "https://LOCATION-aiplatform.googleapis.com/v1/projects/PROJECT_ID/locations/LOCATION/reasoningEngines/kjklkl:query -d '{\n",
        "  \"input\": {\n",
        "    \"class_method\": \"query\",\n",
        "    \"input\": {\"messages\": [\n",
        "      (\"user\", \"What is the exchange rate from US dollars to Swedish currency?\")\n",
        "    ]},\n",
        "  }\n",
        "}'\n",
        "```\n",
        "\n",
        "Sample\n",
        "```\n",
        "curl \\\n",
        "-H \"Authorization: Bearer $(gcloud auth print-access-token)\" \\\n",
        "-H \"Content-Type: application/json\" \\\n",
        "https://us-central1-aiplatform.googleapis.com/v1/projects/aiagentvertexai/locations/us-central1/reasoningEngines/8189839902838358016:query \\\n",
        "-d '{\n",
        "  \"input\": {\n",
        "    \"input\": \"What is the exchange rate from US dollars to INR currency?\"\n",
        "  }\n",
        "}'\n",
        "\n",
        "```"
      ]
    },
    {
      "cell_type": "markdown",
      "source": [
        "Post Man:\n",
        "## 📬 Postman Setup Instructions\n",
        "\n",
        "---\n",
        "\n",
        "### 1. **Method & URL**\n",
        "\n",
        "- **Method**: `POST`\n",
        "- **URL**:  \n",
        "https://us-central1-aiplatform.googleapis.com/v1/projects/aiagentvertexai/locations/us-central1/reasoningEngines/8189839902838358016:query\n",
        "\n",
        "---\n",
        "\n",
        "### 2. **Authorization**\n",
        "\n",
        "- **Type**: Bearer Token\n",
        "\n",
        "#### How to Get Token:\n",
        "\n",
        "Run the following command in your terminal:\n",
        "\n",
        "```bash\n",
        "gcloud auth print-access-token\n",
        "```\n",
        "In Postman:\n",
        "Go to the Authorization tab\n",
        "\n",
        "Set Type to Bearer Token\n",
        "\n",
        "Paste the token in the Token field\n",
        "\n",
        "### 3. Headers\n",
        "Add the following headers if not using the Authorization tab:\n",
        "\n",
        "Key\tValue\n",
        "Authorization\tBearer YOUR_ACCESS_TOKEN\n",
        "Content-Type\tapplication/json\n",
        "\n",
        "### 4. Body\n",
        "Go to the Body tab\n",
        "Select raw\n",
        "Choose JSON from the format dropdown\n",
        "Paste the following JSON payload:\n",
        "\n",
        "```json\n",
        "{\n",
        "  \"input\": {\n",
        "    \"input\": \"What is the exchange rate from US dollars to INR currency?\"\n",
        "  }\n",
        "}\n",
        "```"
      ],
      "metadata": {
        "id": "OZrgxQmw6XmU"
      }
    },
    {
      "cell_type": "markdown",
      "metadata": {
        "id": "6415b2a47a0e"
      },
      "source": [
        "## Cleaning up\n",
        "\n",
        "After you've finished, it's a good practice to clean up your cloud resources. You can delete the deployed Agent Engine instance to avoid any unexpected charges on your Google Cloud account."
      ]
    },
    {
      "cell_type": "code",
      "execution_count": 16,
      "metadata": {
        "id": "7cec827288b7",
        "outputId": "e9d4ab0d-e88d-4279-9d86-49b53bb349ab",
        "colab": {
          "base_uri": "https://localhost:8080/"
        }
      },
      "outputs": [
        {
          "output_type": "stream",
          "name": "stderr",
          "text": [
            "INFO:vertexai.agent_engines:Delete Agent Engine backing LRO: projects/409401031034/locations/us-central1/operations/6182091366546276352\n",
            "INFO:vertexai.agent_engines:Agent Engine deleted. Resource name: projects/409401031034/locations/us-central1/reasoningEngines/5316965553041047552\n"
          ]
        }
      ],
      "source": [
        "remote_agent.delete()"
      ]
    }
  ],
  "metadata": {
    "colab": {
      "name": "intro_agent_engine.ipynb",
      "provenance": [],
      "include_colab_link": true
    },
    "kernelspec": {
      "display_name": "Python 3",
      "name": "python3"
    }
  },
  "nbformat": 4,
  "nbformat_minor": 0
}